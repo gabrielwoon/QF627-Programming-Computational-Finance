{
 "cells": [
  {
   "cell_type": "markdown",
   "id": "6108a1a4",
   "metadata": {},
   "source": [
    "# QF627 Project"
   ]
  },
  {
   "cell_type": "markdown",
   "id": "1bc2c21c",
   "metadata": {},
   "source": [
    "###### Prepared By:\n",
    "Haozeh Zhuo  \n",
    "Gabriel Woon  \n",
    "Shuo Xiao  \n",
    "Yong Wen Wong  "
   ]
  },
  {
   "cell_type": "markdown",
   "id": "570b7cd9",
   "metadata": {},
   "source": [
    "# Activate Libraries"
   ]
  },
  {
   "cell_type": "code",
   "execution_count": 1,
   "id": "4359f845",
   "metadata": {},
   "outputs": [],
   "source": [
    "# Modules\n",
    "import numpy as np\n",
    "import pandas as pd\n",
    "\n",
    "import datetime as dt\n",
    "\n",
    "import matplotlib as mpl\n",
    "import matplotlib.pyplot as plt\n",
    "from matplotlib.pyplot import figure\n",
    "\n",
    "import pandas_datareader.data as pdr\n",
    "import yfinance as yf\n",
    "\n",
    "import warnings\n",
    "\n",
    "# Settings\n",
    "np.set_printoptions(precision = 5)\n",
    "\n",
    "pd.set_option(\"precision\", 5)\n",
    "pd.set_option(\"display.float_format\", lambda x: \"%.3f\" % x)\n",
    "\n",
    "plt.style.use(\"ggplot\")\n",
    "\n",
    "mpl.rcParams[\"axes.grid\"] = True\n",
    "mpl.rcParams[\"grid.color\"] = \"grey\"\n",
    "mpl.rcParams[\"grid.alpha\"] = 0.25\n",
    "\n",
    "mpl.rcParams[\"axes.facecolor\"] = \"white\"\n",
    "\n",
    "mpl.rcParams[\"legend.fontsize\"] = 14\n",
    "\n",
    "warnings.filterwarnings(\"ignore\")"
   ]
  },
  {
   "cell_type": "markdown",
   "id": "fc6c5185",
   "metadata": {},
   "source": [
    "# Datetime"
   ]
  },
  {
   "cell_type": "code",
   "execution_count": 2,
   "id": "518ade5c",
   "metadata": {},
   "outputs": [],
   "source": [
    "# Datetime\n",
    "start = dt.datetime(2002, 11, 1)\n",
    "end = dt.datetime(2021, 10, 31)"
   ]
  },
  {
   "cell_type": "markdown",
   "id": "ed8e4fbf",
   "metadata": {},
   "source": [
    "# SPY Data"
   ]
  },
  {
   "cell_type": "code",
   "execution_count": 3,
   "id": "d5ec5f4b",
   "metadata": {},
   "outputs": [],
   "source": [
    "# SPY Data\n",
    "SPY = pdr.get_data_yahoo(\"SPY\",\n",
    "                        start,\n",
    "                        end)"
   ]
  },
  {
   "cell_type": "code",
   "execution_count": 4,
   "id": "ebca4ca3",
   "metadata": {},
   "outputs": [],
   "source": [
    "# Investment Timeframe\n",
    "D = (SPY.index[-1] - SPY.index[0]).days"
   ]
  },
  {
   "cell_type": "code",
   "execution_count": 5,
   "id": "994d8fc3",
   "metadata": {},
   "outputs": [],
   "source": [
    "# Capital Allocated\n",
    "Capital = 500000"
   ]
  },
  {
   "cell_type": "code",
   "execution_count": 6,
   "id": "1068d715",
   "metadata": {},
   "outputs": [],
   "source": [
    "# Calculate SPY Daily Returns\n",
    "SPY[\"Returns\"] = np.log(SPY[\"Adj Close\"] / SPY[\"Adj Close\"].shift(1))\n",
    "SPY[\"Direction\"] = np.where(SPY[\"Returns\"] > 0, 1, 0)\n",
    "SPY.dropna(inplace = True)"
   ]
  },
  {
   "cell_type": "code",
   "execution_count": 7,
   "id": "a92a3132",
   "metadata": {},
   "outputs": [],
   "source": [
    "# Calculate SPY Sharpe\n",
    "SPY_Sharpe = np.sqrt(253)*SPY[\"Returns\"].mean()/SPY[\"Returns\"].std()"
   ]
  },
  {
   "cell_type": "code",
   "execution_count": 8,
   "id": "0271f9de",
   "metadata": {},
   "outputs": [],
   "source": [
    "# Calculate SPY CAGR\n",
    "SPY_CAGR = (((SPY[\"Adj Close\"][-1]) / (SPY[\"Adj Close\"][1])) ** (365.0/D)) - 1"
   ]
  },
  {
   "cell_type": "code",
   "execution_count": 9,
   "id": "6b67c483",
   "metadata": {},
   "outputs": [],
   "source": [
    "# Calculate SPY Money Left\n",
    "SPY_MoneyLeft = SPY[\"Returns\"].cumsum().apply(np.exp)[-1]*Capital"
   ]
  },
  {
   "cell_type": "code",
   "execution_count": 10,
   "id": "32e5a2bf",
   "metadata": {},
   "outputs": [],
   "source": [
    "# Calculate SPY Max Drawdown\n",
    "SPY[\"Cumulative\"] = SPY[\"Returns\"].cumsum().apply(np.exp)\n",
    "SPY[\"Max_Gross_Performance\"] = SPY[\"Cumulative\"].cummax()\n",
    "SPY_Drawdown = (SPY[\"Max_Gross_Performance\"] - SPY[\"Cumulative\"]).max()\n",
    "SPY_Cumulative = SPY[\"Cumulative\"][-1]"
   ]
  },
  {
   "cell_type": "code",
   "execution_count": 11,
   "id": "96324ce6",
   "metadata": {},
   "outputs": [
    {
     "data": {
      "text/html": [
       "<div>\n",
       "<style scoped>\n",
       "    .dataframe tbody tr th:only-of-type {\n",
       "        vertical-align: middle;\n",
       "    }\n",
       "\n",
       "    .dataframe tbody tr th {\n",
       "        vertical-align: top;\n",
       "    }\n",
       "\n",
       "    .dataframe thead th {\n",
       "        text-align: right;\n",
       "    }\n",
       "</style>\n",
       "<table border=\"1\" class=\"dataframe\">\n",
       "  <thead>\n",
       "    <tr style=\"text-align: right;\">\n",
       "      <th></th>\n",
       "      <th>Sharpe</th>\n",
       "      <th>CAGR</th>\n",
       "      <th>Cumulative</th>\n",
       "      <th>Money Left</th>\n",
       "      <th>Max Drawdown</th>\n",
       "    </tr>\n",
       "  </thead>\n",
       "  <tbody>\n",
       "    <tr>\n",
       "      <th>SPY</th>\n",
       "      <td>0.563</td>\n",
       "      <td>0.110</td>\n",
       "      <td>7.504</td>\n",
       "      <td>3751839.448</td>\n",
       "      <td>1.812</td>\n",
       "    </tr>\n",
       "  </tbody>\n",
       "</table>\n",
       "</div>"
      ],
      "text/plain": [
       "     Sharpe  CAGR  Cumulative  Money Left  Max Drawdown\n",
       "SPY   0.563 0.110       7.504 3751839.448         1.812"
      ]
     },
     "execution_count": 11,
     "metadata": {},
     "output_type": "execute_result"
    }
   ],
   "source": [
    "# SPY Statistics\n",
    "SPY_Stats = pd.DataFrame([SPY_Sharpe, SPY_CAGR, SPY_Cumulative, SPY_MoneyLeft, SPY_Drawdown])\n",
    "SPY_Stats = SPY_Stats.T\n",
    "SPY_Stats.columns = ['Sharpe', 'CAGR', \"Cumulative\", \"Money Left\", \"Max Drawdown\"]\n",
    "SPY_Stats = SPY_Stats.rename(index={0: \"SPY\"})\n",
    "SPY_Stats"
   ]
  },
  {
   "cell_type": "markdown",
   "id": "c120733d",
   "metadata": {},
   "source": [
    "# Momentum Strategy - M1 (Long SMA, Short SMA)\n",
    "<a id=\"Momentum Strategy\"></a>"
   ]
  },
  {
   "cell_type": "code",
   "execution_count": 12,
   "id": "050df25c",
   "metadata": {},
   "outputs": [],
   "source": [
    "# Momentum Parameters\n",
    "SPY1 = SPY.copy()\n",
    "data = [0]\n",
    "SharpeM1 = pd.DataFrame(data, columns=['Empty'])\n",
    "CumulativeM1 = pd.DataFrame(data, columns=['Empty'])\n",
    "CAGRM1 = pd.DataFrame(data, columns=['Empty'])\n",
    "MoneyLeftM1 = pd.DataFrame(data, columns=['Empty'])\n",
    "DrawDownM1 = pd.DataFrame(data, columns=['Empty'])"
   ]
  },
  {
   "cell_type": "code",
   "execution_count": 13,
   "id": "167da3c6",
   "metadata": {},
   "outputs": [],
   "source": [
    "# Momentum Strategy Developement\n",
    "## n = long SMA\n",
    "## m = short SMA\n",
    "\n",
    "for n in range(126, 253):\n",
    "    for m in range(126,253):\n",
    "        if n > m:\n",
    "\n",
    "                SPY1[\"SMA_L(%d)\" % n] = SPY1[\"Adj Close\"].rolling(window = n).mean()\n",
    "    \n",
    "                SPY1[\"SMA_S(%d)\" % n] = SPY1[\"Adj Close\"].rolling(window = m).mean()\n",
    "    \n",
    "                SPY1[\"Position(%d_%d)\" % (n, m)] = np.where(SPY1[\"SMA_S(%d)\" % n] < SPY1[\"SMA_L(%d)\" % n],\n",
    "                                                            -1, \n",
    "                                                            1)\n",
    "             \n",
    "                SPY1[\"Strategy(%d_%d)\" % (n, m)] = SPY1[\"Position(%d_%d)\" % (n, m)].shift(1) * SPY1[\"Returns\"]\n",
    "        \n",
    "                try:\n",
    "                    SharpeM1[\"M1(%d_%d)\" % (n, m)] = (np.sqrt(253)) * (SPY1[\"Strategy(%d_%d)\" % (n, m)].mean()/SPY1[\"Strategy(%d_%d)\" % (n, m)].std())\n",
    "                \n",
    "                except:\n",
    "                    pass\n",
    "        \n",
    "                CAGRM1[\"M1(%d_%d)\" % (n, m)] = ((SPY1[\"Strategy(%d_%d)\" % (n, m)].cumsum().apply(np.exp)[-1] / 1) ** (365.0/D)) - 1\n",
    "        \n",
    "                CumulativeM1[\"M1(%d_%d)\" % (n, m)] = SPY1[\"Strategy(%d_%d)\" % (n, m)].cumsum().apply(np.exp)[-1]\n",
    "        \n",
    "                MoneyLeftM1[\"M1(%d_%d)\" % (n, m)] = SPY1[\"Strategy(%d_%d)\" % (n, m)].cumsum().apply(np.exp)[-1]*Capital\n",
    "        \n",
    "                DrawDownM1[\"M1(%d_%d)\" % (n, m)] = (SPY1[\"Strategy(%d_%d)\" % (n, m)].cumsum().apply(np.exp).cummax() - SPY1[\"Strategy(%d_%d)\" % (n, m)].cumsum().apply(np.exp)).max()\n",
    "               \n",
    "        else:\n",
    "            pass"
   ]
  },
  {
   "cell_type": "code",
   "execution_count": 14,
   "id": "384f0846",
   "metadata": {},
   "outputs": [],
   "source": [
    "# Momentum Statistics\n",
    "M1 = SharpeM1.append(CAGRM1)\n",
    "M1 = M1.append(CumulativeM1)\n",
    "M1 = M1.append(MoneyLeftM1)\n",
    "M1 = M1.append(DrawDownM1)\n",
    "M1 = M1.T.copy()\n",
    "M1.columns = ['Sharpe', 'CAGR', 'Cumulative', \"Money Left\", \"Max Drawdown\"]\n",
    "M1 = pd.concat([M1, SPY_Stats])\n",
    "M1 = M1.rename(index={0: \"SPY\"})\n",
    "\n",
    "# Replace 0 with NaN\n",
    "M1 = M1.replace(to_replace={\n",
    "                           'Sharpe':{0:np.nan}, \n",
    "                           'CAGR':{0:np.nan},\n",
    "                           'Cumulative':{0:np.nan},\n",
    "                           'Money Left':{0:np.nan},\n",
    "                           'Max Drawdown':{0:np.nan},\n",
    "                           })"
   ]
  },
  {
   "cell_type": "code",
   "execution_count": 15,
   "id": "3b0996a2",
   "metadata": {},
   "outputs": [
    {
     "data": {
      "text/html": [
       "<div>\n",
       "<style scoped>\n",
       "    .dataframe tbody tr th:only-of-type {\n",
       "        vertical-align: middle;\n",
       "    }\n",
       "\n",
       "    .dataframe tbody tr th {\n",
       "        vertical-align: top;\n",
       "    }\n",
       "\n",
       "    .dataframe thead th {\n",
       "        text-align: right;\n",
       "    }\n",
       "</style>\n",
       "<table border=\"1\" class=\"dataframe\">\n",
       "  <thead>\n",
       "    <tr style=\"text-align: right;\">\n",
       "      <th></th>\n",
       "      <th>Sharpe</th>\n",
       "      <th>CAGR</th>\n",
       "      <th>Cumulative</th>\n",
       "      <th>Money Left</th>\n",
       "      <th>Max Drawdown</th>\n",
       "    </tr>\n",
       "  </thead>\n",
       "  <tbody>\n",
       "    <tr>\n",
       "      <th>M1(252_157)</th>\n",
       "      <td>0.651</td>\n",
       "      <td>0.130</td>\n",
       "      <td>10.248</td>\n",
       "      <td>5123754.024</td>\n",
       "      <td>2.080</td>\n",
       "    </tr>\n",
       "    <tr>\n",
       "      <th>M1(246_159)</th>\n",
       "      <td>0.641</td>\n",
       "      <td>0.128</td>\n",
       "      <td>9.909</td>\n",
       "      <td>4954496.372</td>\n",
       "      <td>2.055</td>\n",
       "    </tr>\n",
       "    <tr>\n",
       "      <th>M1(152_151)</th>\n",
       "      <td>0.639</td>\n",
       "      <td>0.128</td>\n",
       "      <td>9.820</td>\n",
       "      <td>4910165.310</td>\n",
       "      <td>2.623</td>\n",
       "    </tr>\n",
       "    <tr>\n",
       "      <th>M1(247_158)</th>\n",
       "      <td>0.636</td>\n",
       "      <td>0.127</td>\n",
       "      <td>9.713</td>\n",
       "      <td>4856515.632</td>\n",
       "      <td>2.028</td>\n",
       "    </tr>\n",
       "    <tr>\n",
       "      <th>M1(245_159)</th>\n",
       "      <td>0.628</td>\n",
       "      <td>0.125</td>\n",
       "      <td>9.457</td>\n",
       "      <td>4728499.175</td>\n",
       "      <td>1.962</td>\n",
       "    </tr>\n",
       "    <tr>\n",
       "      <th>...</th>\n",
       "      <td>...</td>\n",
       "      <td>...</td>\n",
       "      <td>...</td>\n",
       "      <td>...</td>\n",
       "      <td>...</td>\n",
       "    </tr>\n",
       "    <tr>\n",
       "      <th>M1(144_139)</th>\n",
       "      <td>0.124</td>\n",
       "      <td>0.024</td>\n",
       "      <td>1.560</td>\n",
       "      <td>780061.475</td>\n",
       "      <td>0.800</td>\n",
       "    </tr>\n",
       "    <tr>\n",
       "      <th>M1(143_142)</th>\n",
       "      <td>0.094</td>\n",
       "      <td>0.018</td>\n",
       "      <td>1.402</td>\n",
       "      <td>700960.484</td>\n",
       "      <td>0.707</td>\n",
       "    </tr>\n",
       "    <tr>\n",
       "      <th>M1(144_140)</th>\n",
       "      <td>0.081</td>\n",
       "      <td>0.015</td>\n",
       "      <td>1.337</td>\n",
       "      <td>668537.224</td>\n",
       "      <td>0.701</td>\n",
       "    </tr>\n",
       "    <tr>\n",
       "      <th>M1(144_142)</th>\n",
       "      <td>0.078</td>\n",
       "      <td>0.015</td>\n",
       "      <td>1.320</td>\n",
       "      <td>660128.006</td>\n",
       "      <td>0.700</td>\n",
       "    </tr>\n",
       "    <tr>\n",
       "      <th>Empty</th>\n",
       "      <td>NaN</td>\n",
       "      <td>NaN</td>\n",
       "      <td>NaN</td>\n",
       "      <td>NaN</td>\n",
       "      <td>NaN</td>\n",
       "    </tr>\n",
       "  </tbody>\n",
       "</table>\n",
       "<p>8003 rows × 5 columns</p>\n",
       "</div>"
      ],
      "text/plain": [
       "             Sharpe  CAGR  Cumulative  Money Left  Max Drawdown\n",
       "M1(252_157)   0.651 0.130      10.248 5123754.024         2.080\n",
       "M1(246_159)   0.641 0.128       9.909 4954496.372         2.055\n",
       "M1(152_151)   0.639 0.128       9.820 4910165.310         2.623\n",
       "M1(247_158)   0.636 0.127       9.713 4856515.632         2.028\n",
       "M1(245_159)   0.628 0.125       9.457 4728499.175         1.962\n",
       "...             ...   ...         ...         ...           ...\n",
       "M1(144_139)   0.124 0.024       1.560  780061.475         0.800\n",
       "M1(143_142)   0.094 0.018       1.402  700960.484         0.707\n",
       "M1(144_140)   0.081 0.015       1.337  668537.224         0.701\n",
       "M1(144_142)   0.078 0.015       1.320  660128.006         0.700\n",
       "Empty           NaN   NaN         NaN         NaN           NaN\n",
       "\n",
       "[8003 rows x 5 columns]"
      ]
     },
     "execution_count": 15,
     "metadata": {},
     "output_type": "execute_result"
    }
   ],
   "source": [
    "# Top & Bottom Momentum Strategies\n",
    "M1.sort_values(by=\"Cumulative\", ascending=False)"
   ]
  },
  {
   "cell_type": "code",
   "execution_count": 16,
   "id": "b0ab4f8e",
   "metadata": {},
   "outputs": [
    {
     "data": {
      "text/plain": [
       "Sharpe          M1(252_157)\n",
       "CAGR            M1(252_157)\n",
       "Cumulative      M1(252_157)\n",
       "Money Left      M1(252_157)\n",
       "Max Drawdown    M1(222_221)\n",
       "dtype: object"
      ]
     },
     "execution_count": 16,
     "metadata": {},
     "output_type": "execute_result"
    }
   ],
   "source": [
    "# Momentum Max Strategy\n",
    "M1.idxmax()"
   ]
  },
  {
   "cell_type": "code",
   "execution_count": 17,
   "id": "c5f5cff4",
   "metadata": {},
   "outputs": [
    {
     "data": {
      "text/plain": [
       "Sharpe          M1(144_142)\n",
       "CAGR            M1(144_142)\n",
       "Cumulative      M1(144_142)\n",
       "Money Left      M1(144_142)\n",
       "Max Drawdown    M1(146_142)\n",
       "dtype: object"
      ]
     },
     "execution_count": 17,
     "metadata": {},
     "output_type": "execute_result"
    }
   ],
   "source": [
    "# Momentum Min Strategy\n",
    "M1.idxmin()"
   ]
  },
  {
   "cell_type": "code",
   "execution_count": 18,
   "id": "594b5c0b",
   "metadata": {},
   "outputs": [
    {
     "data": {
      "text/html": [
       "<div>\n",
       "<style scoped>\n",
       "    .dataframe tbody tr th:only-of-type {\n",
       "        vertical-align: middle;\n",
       "    }\n",
       "\n",
       "    .dataframe tbody tr th {\n",
       "        vertical-align: top;\n",
       "    }\n",
       "\n",
       "    .dataframe thead th {\n",
       "        text-align: right;\n",
       "    }\n",
       "</style>\n",
       "<table border=\"1\" class=\"dataframe\">\n",
       "  <thead>\n",
       "    <tr style=\"text-align: right;\">\n",
       "      <th></th>\n",
       "      <th>Sharpe</th>\n",
       "      <th>CAGR</th>\n",
       "      <th>Cumulative</th>\n",
       "      <th>Money Left</th>\n",
       "      <th>Max Drawdown</th>\n",
       "    </tr>\n",
       "  </thead>\n",
       "  <tbody>\n",
       "    <tr>\n",
       "      <th>M1(248_158)</th>\n",
       "      <td>0.624</td>\n",
       "      <td>0.125</td>\n",
       "      <td>9.309</td>\n",
       "      <td>4654297.951</td>\n",
       "      <td>1.888</td>\n",
       "    </tr>\n",
       "    <tr>\n",
       "      <th>SPY</th>\n",
       "      <td>0.563</td>\n",
       "      <td>0.110</td>\n",
       "      <td>7.504</td>\n",
       "      <td>3751839.448</td>\n",
       "      <td>1.812</td>\n",
       "    </tr>\n",
       "  </tbody>\n",
       "</table>\n",
       "</div>"
      ],
      "text/plain": [
       "             Sharpe  CAGR  Cumulative  Money Left  Max Drawdown\n",
       "M1(248_158)   0.624 0.125       9.309 4654297.951         1.888\n",
       "SPY           0.563 0.110       7.504 3751839.448         1.812"
      ]
     },
     "execution_count": 18,
     "metadata": {},
     "output_type": "execute_result"
    }
   ],
   "source": [
    "# Momentum Best Strategy Statistics\n",
    "M1_Best = M1.loc[[\"M1(248_158)\",\"SPY\"]]; M1_Best"
   ]
  },
  {
   "cell_type": "code",
   "execution_count": 19,
   "id": "1d39140d",
   "metadata": {},
   "outputs": [
    {
     "data": {
      "text/plain": [
       "<matplotlib.legend.Legend at 0x12dd5707700>"
      ]
     },
     "execution_count": 19,
     "metadata": {},
     "output_type": "execute_result"
    },
    {
     "data": {
      "image/png": "[encoded data removed]",
      "text/plain": [
       "<Figure size 1296x432 with 1 Axes>"
      ]
     },
     "metadata": {},
     "output_type": "display_data"
    }
   ],
   "source": [
    "# Plot Momentum Best Strategy Cumulative Returns\n",
    "figure(figsize=(18, 6))\n",
    "plt.plot(SPY1[['Returns','Strategy(248_158)']].cumsum().apply(np.exp))\n",
    "plt.legend([\"SPY\",\"Momentum Strategy (248_158)\"])"
   ]
  },
  {
   "cell_type": "markdown",
   "id": "2bfc2242",
   "metadata": {},
   "source": [
    "# Mean Reversion Strategy - MR1 (SMA, Threshold, Threshold Multiplier)"
   ]
  },
  {
   "cell_type": "code",
   "execution_count": 20,
   "id": "de34187d",
   "metadata": {},
   "outputs": [],
   "source": [
    "# Mean Reversion Parameters\n",
    "SPY2 = SPY.copy()\n",
    "data = [0]\n",
    "SharpeMR1 = pd.DataFrame(data, columns=['Empty'])\n",
    "CAGRMR1 = pd.DataFrame(data, columns=['Empty'])\n",
    "CumulativeMR1 = pd.DataFrame(data, columns=['Empty'])\n",
    "MoneyLeftMR1 = pd.DataFrame(data, columns=['Empty'])\n",
    "DrawDownMR1 = pd.DataFrame(data, columns=['Empty'])"
   ]
  },
  {
   "cell_type": "code",
   "execution_count": 21,
   "id": "6727212a",
   "metadata": {},
   "outputs": [],
   "source": [
    "# Mean Reversion Strategy Developement\n",
    "## n = SMA\n",
    "## m = Threshold\n",
    "## i = Threshold Multiplier\n",
    "\n",
    "for n in range(1, 64):\n",
    "    for m in range(1, 64):\n",
    "        for i in range(1,3):\n",
    "    \n",
    "            SPY2[\"SMA(%d)\" % n] = SPY2[\"Adj Close\"].rolling(window = n).mean()\n",
    "    \n",
    "            SPY2[\"T(%d%d)\" % (m, i)] = i*SPY2[\"Adj Close\"].rolling(window = m).std()\n",
    "    \n",
    "            SPY2[\"-T(%d%d)\" % (m, i)] = -1*SPY2[\"T(%d%d)\" % (m, i)]\n",
    "    \n",
    "            SPY2[\"Dist(%d)\" % n] = SPY2[\"Adj Close\"] - SPY2[\"SMA(%d)\" % n]\n",
    "    \n",
    "            SPY2[\"Position(%d_%d_%d)\" % (n, m, i)] = np.where(SPY2[\"Dist(%d)\" % n] > SPY2[\"T(%d%d)\" % (m, i)],\n",
    "                                                             -1, np.nan)\n",
    "        \n",
    "            SPY2[\"Position(%d_%d_%d)\" % (n, m, i)] = np.where(SPY2[\"Dist(%d)\" % n] < SPY2[\"-T(%d%d)\" % (m, i)],\n",
    "                                                             1, SPY2[\"Position(%d_%d_%d)\" % (n, m, i)])\n",
    "        \n",
    "            SPY2[\"Position(%d_%d_%d)\" % (n, m, i)] = np.where(SPY2[\"Dist(%d)\" % n] * SPY2[\"Dist(%d)\" % n].shift(1) < 0, \n",
    "                                                             0,  SPY2[\"Position(%d_%d_%d)\" % (n, m, i)])\n",
    "        \n",
    "            SPY2[\"Position(%d_%d_%d)\" % (n, m, i)] = SPY2[\"Position(%d_%d_%d)\" % (n, m, i)].ffill()\n",
    "\n",
    "            SPY2[\"Position(%d_%d_%d)\" % (n, m, i)] = SPY2[\"Position(%d_%d_%d)\" % (n, m, i)].fillna(0)\n",
    "        \n",
    "            SPY2[\"Strategy(%d_%d_%d)\" % (n, m, i)] = SPY2[\"Position(%d_%d_%d)\" % (n, m, i)].shift(1) * SPY2[\"Returns\"]\n",
    "        \n",
    "            try:\n",
    "                SharpeMR1[\"MR1(%d_%d_%d)\" % (n, m, i)] = (np.sqrt(253)) * (SPY2[\"Strategy(%d_%d_%d)\" % (n, m, i)].mean()/SPY2[\"Strategy(%d_%d_%d)\" % (n, m, i)].std())\n",
    "            \n",
    "            except:\n",
    "                pass\n",
    "        \n",
    "            CAGRMR1[\"MR1(%d_%d_%d)\" % (n, m, i)] = ((SPY2[\"Strategy(%d_%d_%d)\" % (n, m, i)].cumsum().apply(np.exp)[-1] / 1) ** (365.0/D)) - 1\n",
    "        \n",
    "            CumulativeMR1[\"MR1(%d_%d_%d)\" % (n, m, i)] = SPY2[\"Strategy(%d_%d_%d)\" % (n, m, i)].cumsum().apply(np.exp)[-1]\n",
    "        \n",
    "            MoneyLeftMR1[\"MR1(%d_%d_%d)\" % (n, m, i)] = SPY2[\"Strategy(%d_%d_%d)\" % (n, m, i)].cumsum().apply(np.exp)[-1]*Capital\n",
    "        \n",
    "            DrawDownMR1[\"MR1(%d_%d_%d)\" % (n, m, i)] = (SPY2[\"Strategy(%d_%d_%d)\" % (n, m, i)].cumsum().apply(np.exp).cummax() - SPY2[\"Strategy(%d_%d_%d)\" % (n, m, i)].cumsum().apply(np.exp)).max()"
   ]
  },
  {
   "cell_type": "code",
   "execution_count": 22,
   "id": "00b1c348",
   "metadata": {},
   "outputs": [],
   "source": [
    "# Mean Reversion Statistics\n",
    "MR1 = SharpeMR1.append(CAGRMR1)\n",
    "MR1 = MR1.append(CumulativeMR1)\n",
    "MR1 = MR1.append(MoneyLeftMR1)\n",
    "MR1 = MR1.append(DrawDownMR1)\n",
    "MR1 = MR1.T.copy()\n",
    "MR1.columns = ['Sharpe', 'CAGR', 'Cumulative', \"Money Left\", \"Max Drawdown\"]\n",
    "MR1 = pd.concat([MR1, SPY_Stats])\n",
    "MR1 = MR1.rename(index={0: \"SPY\"})\n",
    "\n",
    "# Replace 0 with NaN\n",
    "MR1 = MR1.replace(to_replace={\n",
    "                             'Sharpe':{0:np.nan}, \n",
    "                             'CAGR':{0:np.nan},\n",
    "                             'Cumulative':{0:np.nan},\n",
    "                             'Money Left':{0:np.nan},\n",
    "                             'Max Drawdown':{0:np.nan},\n",
    "                             })"
   ]
  },
  {
   "cell_type": "code",
   "execution_count": 23,
   "id": "ae31ec6b",
   "metadata": {},
   "outputs": [
    {
     "data": {
      "text/html": [
       "<div>\n",
       "<style scoped>\n",
       "    .dataframe tbody tr th:only-of-type {\n",
       "        vertical-align: middle;\n",
       "    }\n",
       "\n",
       "    .dataframe tbody tr th {\n",
       "        vertical-align: top;\n",
       "    }\n",
       "\n",
       "    .dataframe thead th {\n",
       "        text-align: right;\n",
       "    }\n",
       "</style>\n",
       "<table border=\"1\" class=\"dataframe\">\n",
       "  <thead>\n",
       "    <tr style=\"text-align: right;\">\n",
       "      <th></th>\n",
       "      <th>Sharpe</th>\n",
       "      <th>CAGR</th>\n",
       "      <th>Cumulative</th>\n",
       "      <th>Money Left</th>\n",
       "      <th>Max Drawdown</th>\n",
       "    </tr>\n",
       "  </thead>\n",
       "  <tbody>\n",
       "    <tr>\n",
       "      <th>SPY</th>\n",
       "      <td>0.563</td>\n",
       "      <td>0.110</td>\n",
       "      <td>7.504</td>\n",
       "      <td>3751839.448</td>\n",
       "      <td>1.812</td>\n",
       "    </tr>\n",
       "    <tr>\n",
       "      <th>MR1(4_4_1)</th>\n",
       "      <td>0.494</td>\n",
       "      <td>0.074</td>\n",
       "      <td>3.865</td>\n",
       "      <td>1932406.218</td>\n",
       "      <td>1.332</td>\n",
       "    </tr>\n",
       "    <tr>\n",
       "      <th>MR1(8_5_1)</th>\n",
       "      <td>0.434</td>\n",
       "      <td>0.071</td>\n",
       "      <td>3.701</td>\n",
       "      <td>1850460.540</td>\n",
       "      <td>1.962</td>\n",
       "    </tr>\n",
       "    <tr>\n",
       "      <th>MR1(8_14_1)</th>\n",
       "      <td>0.432</td>\n",
       "      <td>0.068</td>\n",
       "      <td>3.497</td>\n",
       "      <td>1748326.910</td>\n",
       "      <td>1.817</td>\n",
       "    </tr>\n",
       "    <tr>\n",
       "      <th>MR1(4_3_1)</th>\n",
       "      <td>0.449</td>\n",
       "      <td>0.068</td>\n",
       "      <td>3.485</td>\n",
       "      <td>1742310.721</td>\n",
       "      <td>1.104</td>\n",
       "    </tr>\n",
       "    <tr>\n",
       "      <th>...</th>\n",
       "      <td>...</td>\n",
       "      <td>...</td>\n",
       "      <td>...</td>\n",
       "      <td>...</td>\n",
       "      <td>...</td>\n",
       "    </tr>\n",
       "    <tr>\n",
       "      <th>MR1(63_6_2)</th>\n",
       "      <td>-0.241</td>\n",
       "      <td>-0.041</td>\n",
       "      <td>0.452</td>\n",
       "      <td>226235.517</td>\n",
       "      <td>0.599</td>\n",
       "    </tr>\n",
       "    <tr>\n",
       "      <th>MR1(61_3_2)</th>\n",
       "      <td>-0.236</td>\n",
       "      <td>-0.041</td>\n",
       "      <td>0.452</td>\n",
       "      <td>226186.214</td>\n",
       "      <td>0.659</td>\n",
       "    </tr>\n",
       "    <tr>\n",
       "      <th>MR1(59_6_2)</th>\n",
       "      <td>-0.245</td>\n",
       "      <td>-0.041</td>\n",
       "      <td>0.449</td>\n",
       "      <td>224546.447</td>\n",
       "      <td>0.601</td>\n",
       "    </tr>\n",
       "    <tr>\n",
       "      <th>MR1(63_3_2)</th>\n",
       "      <td>-0.239</td>\n",
       "      <td>-0.042</td>\n",
       "      <td>0.446</td>\n",
       "      <td>223079.400</td>\n",
       "      <td>0.645</td>\n",
       "    </tr>\n",
       "    <tr>\n",
       "      <th>Empty</th>\n",
       "      <td>NaN</td>\n",
       "      <td>NaN</td>\n",
       "      <td>NaN</td>\n",
       "      <td>NaN</td>\n",
       "      <td>NaN</td>\n",
       "    </tr>\n",
       "  </tbody>\n",
       "</table>\n",
       "<p>7940 rows × 5 columns</p>\n",
       "</div>"
      ],
      "text/plain": [
       "             Sharpe   CAGR  Cumulative  Money Left  Max Drawdown\n",
       "SPY           0.563  0.110       7.504 3751839.448         1.812\n",
       "MR1(4_4_1)    0.494  0.074       3.865 1932406.218         1.332\n",
       "MR1(8_5_1)    0.434  0.071       3.701 1850460.540         1.962\n",
       "MR1(8_14_1)   0.432  0.068       3.497 1748326.910         1.817\n",
       "MR1(4_3_1)    0.449  0.068       3.485 1742310.721         1.104\n",
       "...             ...    ...         ...         ...           ...\n",
       "MR1(63_6_2)  -0.241 -0.041       0.452  226235.517         0.599\n",
       "MR1(61_3_2)  -0.236 -0.041       0.452  226186.214         0.659\n",
       "MR1(59_6_2)  -0.245 -0.041       0.449  224546.447         0.601\n",
       "MR1(63_3_2)  -0.239 -0.042       0.446  223079.400         0.645\n",
       "Empty           NaN    NaN         NaN         NaN           NaN\n",
       "\n",
       "[7940 rows x 5 columns]"
      ]
     },
     "execution_count": 23,
     "metadata": {},
     "output_type": "execute_result"
    }
   ],
   "source": [
    "# Top & Bottom Mean Reversion Strategies\n",
    "MR1.sort_values(by=\"Cumulative\", ascending=False)"
   ]
  },
  {
   "cell_type": "code",
   "execution_count": 24,
   "id": "e2668966",
   "metadata": {},
   "outputs": [
    {
     "data": {
      "text/plain": [
       "Sharpe          MR1(3_11_2)\n",
       "CAGR                    SPY\n",
       "Cumulative              SPY\n",
       "Money Left              SPY\n",
       "Max Drawdown    MR1(10_5_1)\n",
       "dtype: object"
      ]
     },
     "execution_count": 24,
     "metadata": {},
     "output_type": "execute_result"
    }
   ],
   "source": [
    "# Mean Reversion Max Strategy\n",
    "MR1.idxmax()"
   ]
  },
  {
   "cell_type": "code",
   "execution_count": 25,
   "id": "3857a078",
   "metadata": {
    "scrolled": true
   },
   "outputs": [
    {
     "data": {
      "text/plain": [
       "Sharpe           MR1(2_6_1)\n",
       "CAGR            MR1(63_3_2)\n",
       "Cumulative      MR1(63_3_2)\n",
       "Money Left      MR1(63_3_2)\n",
       "Max Drawdown     MR1(3_9_2)\n",
       "dtype: object"
      ]
     },
     "execution_count": 25,
     "metadata": {},
     "output_type": "execute_result"
    }
   ],
   "source": [
    "# Mean Reversion Min Strategy\n",
    "MR1.idxmin()"
   ]
  },
  {
   "cell_type": "code",
   "execution_count": 26,
   "id": "b2030db3",
   "metadata": {},
   "outputs": [
    {
     "data": {
      "text/html": [
       "<div>\n",
       "<style scoped>\n",
       "    .dataframe tbody tr th:only-of-type {\n",
       "        vertical-align: middle;\n",
       "    }\n",
       "\n",
       "    .dataframe tbody tr th {\n",
       "        vertical-align: top;\n",
       "    }\n",
       "\n",
       "    .dataframe thead th {\n",
       "        text-align: right;\n",
       "    }\n",
       "</style>\n",
       "<table border=\"1\" class=\"dataframe\">\n",
       "  <thead>\n",
       "    <tr style=\"text-align: right;\">\n",
       "      <th></th>\n",
       "      <th>Sharpe</th>\n",
       "      <th>CAGR</th>\n",
       "      <th>Cumulative</th>\n",
       "      <th>Money Left</th>\n",
       "      <th>Max Drawdown</th>\n",
       "    </tr>\n",
       "  </thead>\n",
       "  <tbody>\n",
       "    <tr>\n",
       "      <th>MR1(4_4_1)</th>\n",
       "      <td>0.494</td>\n",
       "      <td>0.074</td>\n",
       "      <td>3.865</td>\n",
       "      <td>1932406.218</td>\n",
       "      <td>1.332</td>\n",
       "    </tr>\n",
       "    <tr>\n",
       "      <th>SPY</th>\n",
       "      <td>0.563</td>\n",
       "      <td>0.110</td>\n",
       "      <td>7.504</td>\n",
       "      <td>3751839.448</td>\n",
       "      <td>1.812</td>\n",
       "    </tr>\n",
       "  </tbody>\n",
       "</table>\n",
       "</div>"
      ],
      "text/plain": [
       "            Sharpe  CAGR  Cumulative  Money Left  Max Drawdown\n",
       "MR1(4_4_1)   0.494 0.074       3.865 1932406.218         1.332\n",
       "SPY          0.563 0.110       7.504 3751839.448         1.812"
      ]
     },
     "execution_count": 26,
     "metadata": {},
     "output_type": "execute_result"
    }
   ],
   "source": [
    "# Mean Reversion Best Strategy Statistics\n",
    "MR1_Best = MR1.loc[[\"MR1(4_4_1)\",\"SPY\"]]; MR1_Best"
   ]
  },
  {
   "cell_type": "code",
   "execution_count": 27,
   "id": "28d1aecd",
   "metadata": {},
   "outputs": [
    {
     "data": {
      "text/plain": [
       "<matplotlib.legend.Legend at 0x12de84af940>"
      ]
     },
     "execution_count": 27,
     "metadata": {},
     "output_type": "execute_result"
    },
    {
     "data": {
      "image/png": "[encoded data removed]",
      "text/plain": [
       "<Figure size 1296x432 with 1 Axes>"
      ]
     },
     "metadata": {},
     "output_type": "display_data"
    }
   ],
   "source": [
    "# Plot Mean Reversion Best Strategy Cumulative Returns\n",
    "figure(figsize=(18, 6))\n",
    "plt.plot(SPY2[['Returns','Strategy(4_4_1)']].cumsum().apply(np.exp))\n",
    "plt.legend([\"SPY\",\"Mean Reversion (4_4_1)\"])"
   ]
  },
  {
   "cell_type": "markdown",
   "id": "0c0d0e8a",
   "metadata": {},
   "source": [
    "# Machine Learning Strategy - ML1"
   ]
  },
  {
   "cell_type": "code",
   "execution_count": 28,
   "id": "571b822a",
   "metadata": {},
   "outputs": [],
   "source": [
    "# Machine Learning Modules \n",
    "from sklearn.linear_model import LinearRegression\n",
    "from sklearn.linear_model import Lasso\n",
    "from sklearn.linear_model import ElasticNet\n",
    "from sklearn.tree import DecisionTreeRegressor\n",
    "from sklearn.neighbors import KNeighborsRegressor\n",
    "from sklearn.svm import SVR\n",
    "from sklearn.neural_network import MLPRegressor\n",
    "from sklearn.ensemble import ExtraTreesRegressor\n",
    "from sklearn.ensemble import RandomForestRegressor\n",
    "from sklearn.ensemble import GradientBoostingRegressor\n",
    "from sklearn.ensemble import AdaBoostRegressor"
   ]
  },
  {
   "cell_type": "code",
   "execution_count": 29,
   "id": "a4a3336d",
   "metadata": {},
   "outputs": [],
   "source": [
    "# Machine Learning Parameters\n",
    "SPY3 = SPY.copy()\n",
    "data = [0]\n",
    "SharpeML1 = pd.DataFrame(data, columns=['Empty'])\n",
    "CAGRML1 = pd.DataFrame(data, columns=['Empty'])\n",
    "CumulativeML1 = pd.DataFrame(data, columns=['Empty'])\n",
    "MoneyLeftML1 = pd.DataFrame(data, columns=['Empty'])\n",
    "DrawDownML1 = pd.DataFrame(data, columns=['Empty'])"
   ]
  },
  {
   "cell_type": "code",
   "execution_count": 30,
   "id": "98314034",
   "metadata": {},
   "outputs": [],
   "source": [
    "# Machine Learning Lags Variables\n",
    "## Lag Variables = Arbitrary\n",
    "\n",
    "LAGS = 5\n",
    "COLS = []\n",
    "\n",
    "for LAG in range(1, LAGS +1):\n",
    "    COL = \"lag_{}\".format(LAG)\n",
    "    SPY3[COL] = SPY3[\"Returns\"].shift(LAG)\n",
    "    COLS.append(COL)\n",
    "    \n",
    "SPY3.dropna(inplace = True)"
   ]
  },
  {
   "cell_type": "code",
   "execution_count": 31,
   "id": "e2c7f794",
   "metadata": {},
   "outputs": [],
   "source": [
    "# Machine Learning Models\n",
    "names = []\n",
    "models = []\n",
    "\n",
    "models.append((\"LR\", LinearRegression()))\n",
    "\n",
    "models.append((\"LASSO\", Lasso()))\n",
    "\n",
    "models.append((\"EN\", ElasticNet()))\n",
    "\n",
    "models.append((\"CART\", DecisionTreeRegressor()))\n",
    "\n",
    "models.append((\"KNN\", KNeighborsRegressor()))\n",
    "\n",
    "models.append((\"SVR\", SVR()))\n",
    "\n",
    "models.append((\"MLP\", MLPRegressor()))\n",
    "\n",
    "models.append((\"ETR\", ExtraTreesRegressor()))\n",
    "\n",
    "models.append((\"RFR\", RandomForestRegressor()))\n",
    "\n",
    "models.append((\"GBR\", GradientBoostingRegressor()))\n",
    "\n",
    "models.append((\"ABR\", AdaBoostRegressor()))"
   ]
  },
  {
   "cell_type": "code",
   "execution_count": 32,
   "id": "b5770c0a",
   "metadata": {
    "scrolled": true
   },
   "outputs": [],
   "source": [
    "# Machine Learning Strategy Developement\n",
    "for name, model in models:\n",
    "    \n",
    "    names.append(name)\n",
    "    \n",
    "    model.fit(SPY3[COLS], SPY3[\"Returns\"])\n",
    "    \n",
    "    SPY3[\"Learning(%s)\" % name] = model.predict(SPY3[COLS])\n",
    "    \n",
    "    SPY3[\"Prediction(%s)\" % name] = np.where(model.predict(SPY3[COLS]) > 0,\n",
    "                                             1, \n",
    "                                            -1)\n",
    "        \n",
    "    SPY3[\"Strategy(%s)\" % name] = SPY3[\"Prediction(%s)\" % name] * SPY3[\"Returns\"]\n",
    "    \n",
    "    try:\n",
    "        SharpeML1[\"ML1(%s)\" % name] = (np.sqrt(253)) * (SPY3[\"Strategy(%s)\" % name].mean()/SPY3[\"Strategy(%s)\" % name].std())\n",
    "    \n",
    "    except:\n",
    "        pass\n",
    "        \n",
    "    CAGRML1[\"ML1(%s)\" % name] = ((SPY3[\"Strategy(%s)\" % name].cumsum().apply(np.exp)[-1] / 1) ** (365.0/D)) - 1\n",
    "    \n",
    "    CumulativeML1[\"ML1(%s)\" % name] = SPY3[\"Strategy(%s)\" % name].cumsum().apply(np.exp)[-1]\n",
    "    \n",
    "    MoneyLeftML1[\"ML1(%s)\" % name] = SPY3[\"Strategy(%s)\" % name].cumsum().apply(np.exp)[-1]*Capital\n",
    "        \n",
    "    DrawDownML1[\"ML1(%s)\" % name] = (SPY3[\"Strategy(%s)\" % name].cumsum().apply(np.exp).cummax() - SPY3[\"Strategy(%s)\" % name].cumsum().apply(np.exp)).max()           "
   ]
  },
  {
   "cell_type": "code",
   "execution_count": 33,
   "id": "5079e492",
   "metadata": {},
   "outputs": [],
   "source": [
    "# Machine Learning Statistics\n",
    "ML1 = SharpeML1.append(CAGRML1)\n",
    "ML1 = ML1.append(CumulativeML1)\n",
    "ML1 = ML1.append(MoneyLeftML1)\n",
    "ML1 = ML1.append(DrawDownML1)\n",
    "ML1 = ML1.T.copy()\n",
    "ML1.columns = ['Sharpe', 'CAGR', \"Cumulative\", \"Money Left\", \"Max Drawdown\"]\n",
    "ML1 = pd.concat([ML1, SPY_Stats])\n",
    "ML1 = ML1.rename(index={0: \"SPY\"})\n",
    "\n",
    "# Replace 0 with NaN\n",
    "ML1 = ML1.replace(to_replace={\n",
    "                             'Sharpe':{0:np.nan}, \n",
    "                             'CAGR':{0:np.nan},\n",
    "                             'Cumulative' :{0:np.nan},\n",
    "                             'Money Left':{0:np.nan},\n",
    "                             'Max Drawdown':{0:np.nan},\n",
    "                             })"
   ]
  },
  {
   "cell_type": "code",
   "execution_count": 34,
   "id": "bfab35c4",
   "metadata": {
    "scrolled": false
   },
   "outputs": [
    {
     "data": {
      "text/html": [
       "<div>\n",
       "<style scoped>\n",
       "    .dataframe tbody tr th:only-of-type {\n",
       "        vertical-align: middle;\n",
       "    }\n",
       "\n",
       "    .dataframe tbody tr th {\n",
       "        vertical-align: top;\n",
       "    }\n",
       "\n",
       "    .dataframe thead th {\n",
       "        text-align: right;\n",
       "    }\n",
       "</style>\n",
       "<table border=\"1\" class=\"dataframe\">\n",
       "  <thead>\n",
       "    <tr style=\"text-align: right;\">\n",
       "      <th></th>\n",
       "      <th>Sharpe</th>\n",
       "      <th>CAGR</th>\n",
       "      <th>Cumulative</th>\n",
       "      <th>Money Left</th>\n",
       "      <th>Max Drawdown</th>\n",
       "    </tr>\n",
       "  </thead>\n",
       "  <tbody>\n",
       "    <tr>\n",
       "      <th>ML1(CART)</th>\n",
       "      <td>13.074</td>\n",
       "      <td>5.681</td>\n",
       "      <td>4770321013155744.000</td>\n",
       "      <td>2385160506577871962112.000</td>\n",
       "      <td>NaN</td>\n",
       "    </tr>\n",
       "    <tr>\n",
       "      <th>ML1(ETR)</th>\n",
       "      <td>13.074</td>\n",
       "      <td>5.681</td>\n",
       "      <td>4770321013155744.000</td>\n",
       "      <td>2385160506577871962112.000</td>\n",
       "      <td>NaN</td>\n",
       "    </tr>\n",
       "    <tr>\n",
       "      <th>ML1(RFR)</th>\n",
       "      <td>12.621</td>\n",
       "      <td>5.418</td>\n",
       "      <td>2226046117763121.000</td>\n",
       "      <td>1113023058881560444928.000</td>\n",
       "      <td>4535340068857.250</td>\n",
       "    </tr>\n",
       "    <tr>\n",
       "      <th>ML1(KNN)</th>\n",
       "      <td>5.384</td>\n",
       "      <td>1.609</td>\n",
       "      <td>82646162.178</td>\n",
       "      <td>41323081088841.672</td>\n",
       "      <td>1527245.030</td>\n",
       "    </tr>\n",
       "    <tr>\n",
       "      <th>ML1(GBR)</th>\n",
       "      <td>2.865</td>\n",
       "      <td>0.699</td>\n",
       "      <td>23875.322</td>\n",
       "      <td>11937660790.382</td>\n",
       "      <td>1476.544</td>\n",
       "    </tr>\n",
       "    <tr>\n",
       "      <th>ML1(ABR)</th>\n",
       "      <td>1.102</td>\n",
       "      <td>0.230</td>\n",
       "      <td>50.931</td>\n",
       "      <td>25465734.580</td>\n",
       "      <td>6.324</td>\n",
       "    </tr>\n",
       "    <tr>\n",
       "      <th>ML1(SVR)</th>\n",
       "      <td>0.737</td>\n",
       "      <td>0.148</td>\n",
       "      <td>13.882</td>\n",
       "      <td>6940971.650</td>\n",
       "      <td>1.222</td>\n",
       "    </tr>\n",
       "    <tr>\n",
       "      <th>ML1(LR)</th>\n",
       "      <td>0.701</td>\n",
       "      <td>0.141</td>\n",
       "      <td>12.239</td>\n",
       "      <td>6119489.621</td>\n",
       "      <td>1.497</td>\n",
       "    </tr>\n",
       "    <tr>\n",
       "      <th>SPY</th>\n",
       "      <td>0.563</td>\n",
       "      <td>0.110</td>\n",
       "      <td>7.504</td>\n",
       "      <td>3751839.448</td>\n",
       "      <td>1.812</td>\n",
       "    </tr>\n",
       "    <tr>\n",
       "      <th>ML1(LASSO)</th>\n",
       "      <td>0.557</td>\n",
       "      <td>0.110</td>\n",
       "      <td>7.318</td>\n",
       "      <td>3659241.758</td>\n",
       "      <td>1.767</td>\n",
       "    </tr>\n",
       "    <tr>\n",
       "      <th>ML1(EN)</th>\n",
       "      <td>0.557</td>\n",
       "      <td>0.110</td>\n",
       "      <td>7.318</td>\n",
       "      <td>3659241.758</td>\n",
       "      <td>1.767</td>\n",
       "    </tr>\n",
       "    <tr>\n",
       "      <th>ML1(MLP)</th>\n",
       "      <td>0.278</td>\n",
       "      <td>0.054</td>\n",
       "      <td>2.703</td>\n",
       "      <td>1351296.251</td>\n",
       "      <td>2.034</td>\n",
       "    </tr>\n",
       "    <tr>\n",
       "      <th>Empty</th>\n",
       "      <td>NaN</td>\n",
       "      <td>NaN</td>\n",
       "      <td>NaN</td>\n",
       "      <td>NaN</td>\n",
       "      <td>NaN</td>\n",
       "    </tr>\n",
       "  </tbody>\n",
       "</table>\n",
       "</div>"
      ],
      "text/plain": [
       "            Sharpe  CAGR           Cumulative                 Money Left  \\\n",
       "ML1(CART)   13.074 5.681 4770321013155744.000 2385160506577871962112.000   \n",
       "ML1(ETR)    13.074 5.681 4770321013155744.000 2385160506577871962112.000   \n",
       "ML1(RFR)    12.621 5.418 2226046117763121.000 1113023058881560444928.000   \n",
       "ML1(KNN)     5.384 1.609         82646162.178         41323081088841.672   \n",
       "ML1(GBR)     2.865 0.699            23875.322            11937660790.382   \n",
       "ML1(ABR)     1.102 0.230               50.931               25465734.580   \n",
       "ML1(SVR)     0.737 0.148               13.882                6940971.650   \n",
       "ML1(LR)      0.701 0.141               12.239                6119489.621   \n",
       "SPY          0.563 0.110                7.504                3751839.448   \n",
       "ML1(LASSO)   0.557 0.110                7.318                3659241.758   \n",
       "ML1(EN)      0.557 0.110                7.318                3659241.758   \n",
       "ML1(MLP)     0.278 0.054                2.703                1351296.251   \n",
       "Empty          NaN   NaN                  NaN                        NaN   \n",
       "\n",
       "                Max Drawdown  \n",
       "ML1(CART)                NaN  \n",
       "ML1(ETR)                 NaN  \n",
       "ML1(RFR)   4535340068857.250  \n",
       "ML1(KNN)         1527245.030  \n",
       "ML1(GBR)            1476.544  \n",
       "ML1(ABR)               6.324  \n",
       "ML1(SVR)               1.222  \n",
       "ML1(LR)                1.497  \n",
       "SPY                    1.812  \n",
       "ML1(LASSO)             1.767  \n",
       "ML1(EN)                1.767  \n",
       "ML1(MLP)               2.034  \n",
       "Empty                    NaN  "
      ]
     },
     "execution_count": 34,
     "metadata": {},
     "output_type": "execute_result"
    }
   ],
   "source": [
    "# Top & Bottom 5 Machine Learning Strategies\n",
    "ML1.sort_values(by=\"Cumulative\", ascending=False)"
   ]
  },
  {
   "cell_type": "code",
   "execution_count": 35,
   "id": "13483d85",
   "metadata": {},
   "outputs": [
    {
     "data": {
      "text/plain": [
       "Sharpe          ML1(CART)\n",
       "CAGR            ML1(CART)\n",
       "Cumulative      ML1(CART)\n",
       "Money Left      ML1(CART)\n",
       "Max Drawdown     ML1(RFR)\n",
       "dtype: object"
      ]
     },
     "execution_count": 35,
     "metadata": {},
     "output_type": "execute_result"
    }
   ],
   "source": [
    "# Machine Learning Max Strategy\n",
    "ML1.idxmax()"
   ]
  },
  {
   "cell_type": "code",
   "execution_count": 36,
   "id": "e0d5b6a5",
   "metadata": {
    "scrolled": true
   },
   "outputs": [
    {
     "data": {
      "text/plain": [
       "Sharpe          ML1(MLP)\n",
       "CAGR            ML1(MLP)\n",
       "Cumulative      ML1(MLP)\n",
       "Money Left      ML1(MLP)\n",
       "Max Drawdown    ML1(SVR)\n",
       "dtype: object"
      ]
     },
     "execution_count": 36,
     "metadata": {},
     "output_type": "execute_result"
    }
   ],
   "source": [
    "# Machine Learning Min Strategy\n",
    "ML1.idxmin()"
   ]
  }
 ],
 "metadata": {
  "kernelspec": {
   "display_name": "Python 3 (ipykernel)",
   "language": "python",
   "name": "python3"
  },
  "language_info": {
   "codemirror_mode": {
    "name": "ipython",
    "version": 3
   },
   "file_extension": ".py",
   "mimetype": "text/x-python",
   "name": "python",
   "nbconvert_exporter": "python",
   "pygments_lexer": "ipython3",
   "version": "3.9.7"
  }
 },
 "nbformat": 4,
 "nbformat_minor": 5
}
